{
  "cells": [
    {
      "cell_type": "code",
      "execution_count": 1,
      "id": "6a8206aa-efe5-4176-9d0c-56bec1bbdb3b",
      "metadata": {
        "colab": {
          "base_uri": "https://localhost:8080/"
        },
        "id": "6a8206aa-efe5-4176-9d0c-56bec1bbdb3b",
        "outputId": "dae72789-9cac-4303-da33-395fcfc62013"
      },
      "outputs": [
        {
          "output_type": "stream",
          "name": "stdout",
          "text": [
            "Collecting rasterio\n",
            "  Downloading rasterio-1.4.3-cp311-cp311-manylinux_2_17_x86_64.manylinux2014_x86_64.whl.metadata (9.1 kB)\n",
            "Collecting affine (from rasterio)\n",
            "  Downloading affine-2.4.0-py3-none-any.whl.metadata (4.0 kB)\n",
            "Requirement already satisfied: attrs in /usr/local/lib/python3.11/dist-packages (from rasterio) (25.1.0)\n",
            "Requirement already satisfied: certifi in /usr/local/lib/python3.11/dist-packages (from rasterio) (2025.1.31)\n",
            "Requirement already satisfied: click>=4.0 in /usr/local/lib/python3.11/dist-packages (from rasterio) (8.1.8)\n",
            "Collecting cligj>=0.5 (from rasterio)\n",
            "  Downloading cligj-0.7.2-py3-none-any.whl.metadata (5.0 kB)\n",
            "Requirement already satisfied: numpy>=1.24 in /usr/local/lib/python3.11/dist-packages (from rasterio) (1.26.4)\n",
            "Collecting click-plugins (from rasterio)\n",
            "  Downloading click_plugins-1.1.1-py2.py3-none-any.whl.metadata (6.4 kB)\n",
            "Requirement already satisfied: pyparsing in /usr/local/lib/python3.11/dist-packages (from rasterio) (3.2.1)\n",
            "Downloading rasterio-1.4.3-cp311-cp311-manylinux_2_17_x86_64.manylinux2014_x86_64.whl (22.2 MB)\n",
            "\u001b[2K   \u001b[90m━━━━━━━━━━━━━━━━━━━━━━━━━━━━━━━━━━━━━━━━\u001b[0m \u001b[32m22.2/22.2 MB\u001b[0m \u001b[31m15.3 MB/s\u001b[0m eta \u001b[36m0:00:00\u001b[0m\n",
            "\u001b[?25hDownloading cligj-0.7.2-py3-none-any.whl (7.1 kB)\n",
            "Downloading affine-2.4.0-py3-none-any.whl (15 kB)\n",
            "Downloading click_plugins-1.1.1-py2.py3-none-any.whl (7.5 kB)\n",
            "Installing collected packages: cligj, click-plugins, affine, rasterio\n",
            "Successfully installed affine-2.4.0 click-plugins-1.1.1 cligj-0.7.2 rasterio-1.4.3\n"
          ]
        }
      ],
      "source": [
        "!pip install rasterio"
      ]
    },
    {
      "cell_type": "code",
      "execution_count": 2,
      "id": "d0745a97-95f8-447c-83e0-dd8d25ebaa2f",
      "metadata": {
        "colab": {
          "base_uri": "https://localhost:8080/"
        },
        "id": "d0745a97-95f8-447c-83e0-dd8d25ebaa2f",
        "outputId": "2dac26d7-f636-4566-9d65-a0908cd8b0ed"
      },
      "outputs": [
        {
          "output_type": "stream",
          "name": "stdout",
          "text": [
            "Requirement already satisfied: pathlib in /usr/local/lib/python3.11/dist-packages (1.0.1)\n"
          ]
        }
      ],
      "source": [
        "!pip install pathlib"
      ]
    },
    {
      "cell_type": "code",
      "execution_count": 3,
      "id": "106df094-e8ab-4f42-901c-1c518e394d33",
      "metadata": {
        "colab": {
          "base_uri": "https://localhost:8080/"
        },
        "id": "106df094-e8ab-4f42-901c-1c518e394d33",
        "outputId": "c17e89e3-ff8f-4211-fbcf-19ae67efd73c"
      },
      "outputs": [
        {
          "output_type": "stream",
          "name": "stdout",
          "text": [
            "ERROR: unknown command \"insatll\" - maybe you meant \"install\"\n"
          ]
        }
      ],
      "source": [
        "!pip insatll path"
      ]
    },
    {
      "cell_type": "code",
      "execution_count": 5,
      "id": "e9478ec9-544d-4126-a542-818b41664882",
      "metadata": {
        "colab": {
          "base_uri": "https://localhost:8080/"
        },
        "id": "e9478ec9-544d-4126-a542-818b41664882",
        "outputId": "1bf893d3-97c9-48cf-b3aa-6a4c43beee43"
      },
      "outputs": [
        {
          "output_type": "stream",
          "name": "stdout",
          "text": [
            "Drive already mounted at /content/drive; to attempt to forcibly remount, call drive.mount(\"/content/drive\", force_remount=True).\n",
            "Using output shape: (1021, 1000)\n",
            "Opening file: /content/drive/MyDrive/Mid/LISS3/BAND2.tif\n"
          ]
        },
        {
          "output_type": "stream",
          "name": "stderr",
          "text": [
            "WARNING:rasterio._env:CPLE_AppDefined in The definition of geographic CRS EPSG:4326 got from GeoTIFF keys is not the same as the one from the EPSG registry, which may cause issues during reprojection operations. Set GTIFF_SRS_SOURCE configuration option to EPSG to use official parameters (overriding the ones from GeoTIFF keys), or to GEOKEYS to use custom values from GeoTIFF keys and drop the EPSG code.\n"
          ]
        },
        {
          "output_type": "stream",
          "name": "stdout",
          "text": [
            "Opening file: /content/drive/MyDrive/Mid/LISS3/BAND3.tif\n"
          ]
        },
        {
          "output_type": "stream",
          "name": "stderr",
          "text": [
            "WARNING:rasterio._env:CPLE_AppDefined in The definition of geographic CRS EPSG:4326 got from GeoTIFF keys is not the same as the one from the EPSG registry, which may cause issues during reprojection operations. Set GTIFF_SRS_SOURCE configuration option to EPSG to use official parameters (overriding the ones from GeoTIFF keys), or to GEOKEYS to use custom values from GeoTIFF keys and drop the EPSG code.\n"
          ]
        },
        {
          "output_type": "stream",
          "name": "stdout",
          "text": [
            "Opening file: /content/drive/MyDrive/Mid/LISS3/BAND4.tif\n"
          ]
        },
        {
          "output_type": "stream",
          "name": "stderr",
          "text": [
            "WARNING:rasterio._env:CPLE_AppDefined in The definition of geographic CRS EPSG:4326 got from GeoTIFF keys is not the same as the one from the EPSG registry, which may cause issues during reprojection operations. Set GTIFF_SRS_SOURCE configuration option to EPSG to use official parameters (overriding the ones from GeoTIFF keys), or to GEOKEYS to use custom values from GeoTIFF keys and drop the EPSG code.\n"
          ]
        },
        {
          "output_type": "stream",
          "name": "stdout",
          "text": [
            "Opening file: /content/drive/MyDrive/Mid/LISS3/BAND5.tif\n"
          ]
        },
        {
          "output_type": "stream",
          "name": "stderr",
          "text": [
            "WARNING:rasterio._env:CPLE_AppDefined in The definition of geographic CRS EPSG:4326 got from GeoTIFF keys is not the same as the one from the EPSG registry, which may cause issues during reprojection operations. Set GTIFF_SRS_SOURCE configuration option to EPSG to use official parameters (overriding the ones from GeoTIFF keys), or to GEOKEYS to use custom values from GeoTIFF keys and drop the EPSG code.\n"
          ]
        },
        {
          "output_type": "stream",
          "name": "stdout",
          "text": [
            "Using output shape: (1021, 1000)\n",
            "Opening file: /content/drive/MyDrive/Mid/LISS4/BAND2.tif\n"
          ]
        },
        {
          "output_type": "stream",
          "name": "stderr",
          "text": [
            "WARNING:rasterio._env:CPLE_AppDefined in The definition of geographic CRS EPSG:4326 got from GeoTIFF keys is not the same as the one from the EPSG registry, which may cause issues during reprojection operations. Set GTIFF_SRS_SOURCE configuration option to EPSG to use official parameters (overriding the ones from GeoTIFF keys), or to GEOKEYS to use custom values from GeoTIFF keys and drop the EPSG code.\n"
          ]
        },
        {
          "output_type": "stream",
          "name": "stdout",
          "text": [
            "Opening file: /content/drive/MyDrive/Mid/LISS4/BAND3.tif\n"
          ]
        },
        {
          "output_type": "stream",
          "name": "stderr",
          "text": [
            "WARNING:rasterio._env:CPLE_AppDefined in The definition of geographic CRS EPSG:4326 got from GeoTIFF keys is not the same as the one from the EPSG registry, which may cause issues during reprojection operations. Set GTIFF_SRS_SOURCE configuration option to EPSG to use official parameters (overriding the ones from GeoTIFF keys), or to GEOKEYS to use custom values from GeoTIFF keys and drop the EPSG code.\n"
          ]
        },
        {
          "output_type": "stream",
          "name": "stdout",
          "text": [
            "Opening file: /content/drive/MyDrive/Mid/LISS4/BAND4.tif\n"
          ]
        },
        {
          "output_type": "stream",
          "name": "stderr",
          "text": [
            "WARNING:rasterio._env:CPLE_AppDefined in The definition of geographic CRS EPSG:4326 got from GeoTIFF keys is not the same as the one from the EPSG registry, which may cause issues during reprojection operations. Set GTIFF_SRS_SOURCE configuration option to EPSG to use official parameters (overriding the ones from GeoTIFF keys), or to GEOKEYS to use custom values from GeoTIFF keys and drop the EPSG code.\n"
          ]
        },
        {
          "output_type": "stream",
          "name": "stdout",
          "text": [
            "Scatterplots saved as /content/drive/MyDrive/LISS3/LISS-3_scatterplots.png\n",
            "Scatterplots saved as /content/drive/MyDrive/LISS4/LISS-4_scatterplots.png\n"
          ]
        }
      ],
      "source": [
        "import os\n",
        "from pathlib import Path\n",
        "import rasterio\n",
        "import matplotlib.pyplot as plt\n",
        "from google.colab import drive\n",
        "\n",
        "# Step 1: Mount Google Drive\n",
        "drive.mount('/content/drive')\n",
        "\n",
        "# Step 2: Define the function to load bands from a folder\n",
        "def load_image_band(img_folder, bands, width=None):\n",
        "    \"\"\"Load specific bands from a folder and return the image and dataset dictionaries.\"\"\"\n",
        "    image = {}\n",
        "    dataset = {}\n",
        "    path = Path(img_folder)\n",
        "\n",
        "    # Determine the desired output shape if width is provided\n",
        "    out_shape = (int(width / 7601 * 7761), width) if width else None\n",
        "    if width:\n",
        "        print(f\"Using output shape: {out_shape}\")\n",
        "\n",
        "    # Read the specified bands and store them in dictionaries\n",
        "    for band in bands:\n",
        "        file = next(path.glob(f\"*{band}.tif\"), None)\n",
        "        if not file:\n",
        "            raise FileNotFoundError(f\"The Band {band} not found in {img_folder}\")\n",
        "\n",
        "        print(f\"Opening file: {file}\")\n",
        "        dataset[band] = rasterio.open(file)\n",
        "        image[band] = dataset[band].read(1, out_shape=out_shape)\n",
        "\n",
        "    return image, dataset\n",
        "\n",
        "# Step 3: Set the folder paths in Google Drive\n",
        "liss3_folder = \"/content/drive/MyDrive/Mid/LISS3\"\n",
        "liss4_folder = \"/content/drive/MyDrive/Mid/LISS4\"\n",
        "\n",
        "# Step 4: Load Images\n",
        "img_l3, image_dataset_l3 = load_image_band(liss3_folder, ['BAND2', 'BAND3', 'BAND4', 'BAND5'], width=1000)\n",
        "img_l4, image_dataset_l4 = load_image_band(liss4_folder, ['BAND2', 'BAND3', 'BAND4'], width=1000)\n",
        "\n",
        "# Step 5: Function to plot scatterplots for all band combinations\n",
        "def plot_scatterplots(image, title_prefix, save_path):\n",
        "    \"\"\"Generate scatterplots for all band combinations and save them.\"\"\"\n",
        "    band_keys = list(image.keys())\n",
        "    num_combinations = len(band_keys) * (len(band_keys) - 1) // 2\n",
        "    rows = (num_combinations + 2) // 3\n",
        "    plt.figure(figsize=(18, rows * 6))\n",
        "\n",
        "    count = 1\n",
        "    for i in range(len(band_keys)):\n",
        "        for j in range(i + 1, len(band_keys)):\n",
        "            x_band, y_band = band_keys[i], band_keys[j]\n",
        "            x_data, y_data = image[x_band].ravel(), image[y_band].ravel()\n",
        "\n",
        "            plt.subplot(rows, 3, count)\n",
        "            plt.scatter(x_data, y_data, s=1, alpha=0.5)\n",
        "            plt.title(f\"{title_prefix}: {x_band} vs {y_band}\")\n",
        "            plt.xlabel(x_band)\n",
        "            plt.ylabel(y_band)\n",
        "            count += 1\n",
        "\n",
        "    # Save the figure\n",
        "    os.makedirs(save_path, exist_ok=True)\n",
        "    file_name = os.path.join(save_path, f\"{title_prefix}_scatterplots.png\")\n",
        "    plt.tight_layout()\n",
        "    plt.savefig(file_name, dpi=300)\n",
        "    plt.close()\n",
        "    print(f\"Scatterplots saved as {file_name}\")\n",
        "\n",
        "# Step 6: Define save paths\n",
        "save_path_l3 = \"/content/drive/MyDrive/LISS3\"\n",
        "save_path_l4 = \"/content/drive/MyDrive/LISS4\"\n",
        "\n",
        "# Step 7: Generate scatterplots and save them\n",
        "plot_scatterplots(img_l3, \"LISS-3\", save_path_l3)\n",
        "plot_scatterplots(img_l4, \"LISS-4\", save_path_l4)\n"
      ]
    },
    {
      "cell_type": "code",
      "source": [],
      "metadata": {
        "id": "zvgWZOY9oVSn"
      },
      "id": "zvgWZOY9oVSn",
      "execution_count": null,
      "outputs": []
    }
  ],
  "metadata": {
    "kernelspec": {
      "display_name": "Python [conda env:base] *",
      "language": "python",
      "name": "conda-base-py"
    },
    "language_info": {
      "codemirror_mode": {
        "name": "ipython",
        "version": 3
      },
      "file_extension": ".py",
      "mimetype": "text/x-python",
      "name": "python",
      "nbconvert_exporter": "python",
      "pygments_lexer": "ipython3",
      "version": "3.12.7"
    },
    "colab": {
      "provenance": []
    }
  },
  "nbformat": 4,
  "nbformat_minor": 5
}